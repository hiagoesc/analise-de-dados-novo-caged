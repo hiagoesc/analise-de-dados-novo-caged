{
 "cells": [
  {
   "cell_type": "markdown",
   "metadata": {},
   "source": [
    "### Imports ->"
   ]
  },
  {
   "cell_type": "code",
   "execution_count": null,
   "metadata": {},
   "outputs": [],
   "source": [
    "import pandas as pd\n",
    "import os\n",
    "import plotly.express as px"
   ]
  },
  {
   "cell_type": "markdown",
   "metadata": {},
   "source": [
    "### Obtendo código do município de análise ->"
   ]
  },
  {
   "cell_type": "code",
   "execution_count": null,
   "metadata": {},
   "outputs": [],
   "source": [
    "# Definição do município da análise (DIGITAR O NOME DO MUNICÍPIO E DO ESTADO)\n",
    "municipio = 'Caraguatatuba'\n",
    "estado = 'São Paulo'\n",
    "\n",
    "# Carregando lista de códigos de municípios do IBGE\n",
    "df_codigos_municipios = pd.read_excel('RELATORIO_DTB_BRASIL_MUNICIPIO.xls')\n",
    "\n",
    "# Filtrando o data frame pelo nome do município\n",
    "df_codigos_municipios = df_codigos_municipios[df_codigos_municipios['Nome_Município'] == municipio]\n",
    "\n",
    "# Atribuição do código do município a uma variável, filtrando pelo estado\n",
    "codigo_municipio = int(str(list(df_codigos_municipios.loc[df_codigos_municipios['Nome_UF'] == estado, 'Código Município Completo'])[0])[0:6])"
   ]
  },
  {
   "cell_type": "code",
   "execution_count": null,
   "metadata": {
    "scrolled": true
   },
   "outputs": [],
   "source": [
    "# Lista os arquivos das bases de dados mensais\n",
    "lista_arquivos = os.listdir() # Lista dos arquivos da pasta do projeto\n",
    "lista_arquivos = [arquivo for arquivo in lista_arquivos if \".txt\" in arquivo] # Lista apenas dos arquivos .txt"
   ]
  },
  {
   "cell_type": "code",
   "execution_count": null,
   "metadata": {},
   "outputs": [],
   "source": [
    "# Cria dicionário de data frames\n",
    "dic_df = {}\n",
    "\n",
    "# Carrega cada base de dados em txt como data frame, a chave do dicionário é o nome do arquivo\n",
    "for arquivo in lista_arquivos:\n",
    "    dic_df[arquivo] = pd.read_csv(arquivo, sep=\";\")"
   ]
  },
  {
   "cell_type": "code",
   "execution_count": null,
   "metadata": {},
   "outputs": [],
   "source": [
    "# Atribui aos data frames mensais apenas os registros do município indicado\n",
    "for df in dic_df:\n",
    "    dic_df[df] = dic_df[df][dic_df[df]['município'] == codigo_municipio]"
   ]
  },
  {
   "cell_type": "code",
   "execution_count": null,
   "metadata": {},
   "outputs": [],
   "source": [
    "# Carrega a lista de Atividades Características de Turismo\n",
    "df_act = pd.read_excel('Lista_ACT.xlsx', sheet_name='Lista ACT - Estrut OMT SUBCLASS')\n",
    "\n",
    "# Armazena apenas a coluna com os códigos\n",
    "df_act = df_act.drop(['Unnamed: 0', 'Unnamed: 2'], axis=1)\n",
    "\n",
    "# Renomeia a coluna\n",
    "df_act = df_act.rename(columns={df_act.columns[0]: \"subclasse\"})\n",
    "\n",
    "# Armazena apenas os códigos com base no tamanho dos registros\n",
    "df_act = df_act[df_act['subclasse'].str.len() == 10]\n",
    "\n",
    "# Retira os símbolos do código, deixando apenas os algarismos\n",
    "df_act.loc[:, 'subclasse'] = df_act['subclasse'].str.replace('.', '')\n",
    "df_act.loc[:, 'subclasse'] = df_act['subclasse'].str.replace('-', '')\n",
    "df_act.loc[:, 'subclasse'] = df_act['subclasse'].str.replace('/', '')\n",
    "\n",
    "# Converte os registros para o tipo numérico (int)\n",
    "df_act.loc[:, 'subclasse'] = pd.to_numeric(df_act['subclasse'])"
   ]
  },
  {
   "cell_type": "code",
   "execution_count": null,
   "metadata": {},
   "outputs": [],
   "source": [
    "# Cria dicionário para armazenar os empregos filtrados (apenas atividades turísticas)\n",
    "empregos_turismo = {}\n",
    "\n",
    "# Atribui ao dicionário apenas os dados do setor de turismo\n",
    "for df in dic_df:\n",
    "    empregos_turismo[df] = dic_df[df].merge(df_act, on='subclasse')\n",
    "    \n",
    "# Cria a coluna 'estoque' para armazenar a quantidade após cada movimentação\n",
    "for mes in empregos_turismo:\n",
    "    empregos_turismo[mes]['estoque'] = None"
   ]
  },
  {
   "cell_type": "code",
   "execution_count": null,
   "metadata": {},
   "outputs": [],
   "source": [
    "# Abre planilha do Ministério do Turismo com o estoque de empregos no turismo em Janeiro de 2020\n",
    "df_estoque = pd.read_excel('Estoques do Turismo.xlsx', sheet_name='Estoque por Município')\n",
    "\n",
    "# Ajusta os campos vindos do excel para facilitar consulta como data frame\n",
    "# Altera o nome das colunas\n",
    "for i in range(3, 59):\n",
    "    df_estoque = df_estoque.rename({f'Unnamed: {i}':int(df_estoque.loc[1,f'Unnamed: {i}'])}, axis=1)\n",
    "df_estoque = df_estoque.rename({'Tabela 2 - Estoques subclasse turismo em 1º de janeiro de 2020 por município':df_estoque.loc[0,'Tabela 2 - Estoques subclasse turismo em 1º de janeiro de 2020 por município']}, axis=1)\n",
    "df_estoque = df_estoque.rename({'Unnamed: 1':df_estoque.loc[0,'Unnamed: 1']}, axis=1)\n",
    "df_estoque = df_estoque.rename({'Unnamed: 2':df_estoque.loc[0,'Unnamed: 2']}, axis=1)\n",
    "# Exclui as linhas sem registros\n",
    "df_estoque = df_estoque.drop([0, 1, 5252,5253,5254], axis=0)\n",
    "# Reseta o index\n",
    "df_estoque = df_estoque.reset_index(drop=True)\n",
    "# Altera tipo de dado da primeira coluna de CNAEs\n",
    "df_estoque[4922101] = pd.to_numeric(df_estoque[4922101])\n",
    "\n",
    "# Atribui a soma de todos os estoque por CNAE a uma variável, estoque total dos CNAEs do Turismo\n",
    "valor_estoque = df_estoque[df_estoque['Município cod'] == codigo_municipio].sum(axis=1)\n",
    "valor_estoque = int(valor_estoque.values[0])"
   ]
  },
  {
   "cell_type": "code",
   "execution_count": null,
   "metadata": {},
   "outputs": [],
   "source": [
    "# Atribui o valor do estoque anterior o valor do estoque oriundo da planilha de estoques de 1/1/2020\n",
    "estoque_anterior = valor_estoque\n",
    "\n",
    "# Alimenta os data frames mensais com o valor do estoque a cada movimentação\n",
    "for mes in lista_arquivos:\n",
    "    # Primeiro estoque recebe o estoque anterior mais a primeira movimentação\n",
    "    empregos_turismo[mes].loc[0, 'estoque'] = estoque_anterior + empregos_turismo[mes].loc[0, 'saldomovimentação']\n",
    "    \n",
    "    # Atualiza o estoque para cada movimentação\n",
    "    for i in range(len(list(empregos_turismo[mes]['estoque']))):\n",
    "        empregos_turismo[mes].loc[1:, 'estoque'] = empregos_turismo[mes]['estoque'].shift() + empregos_turismo[mes]['saldomovimentação']\n",
    "    \n",
    "    # Atribui o último estoque a variável de estoque anterior, para alimentar o primeiro registro do próximo data frame\n",
    "    estoque_anterior = empregos_turismo[mes].iloc[-1,-1]"
   ]
  },
  {
   "cell_type": "code",
   "execution_count": null,
   "metadata": {},
   "outputs": [],
   "source": [
    "# Cria lista com os dados finais de estoque de cada mês para criação do gráfico\n",
    "plotagem = []\n",
    "\n",
    "# Para cada data frame, atribui à lista de plotagem uma tupla com o \n",
    "for mes in empregos_turismo:\n",
    "    plotagem.append([mes.replace('.txt', '').replace('CAGEDESTAB', '')[0:4], mes.replace('.txt', '').replace('CAGEDESTAB', '')[4:], empregos_turismo[mes].iloc[-1,-1]])\n",
    "\n",
    "# Altera os meses de número para as 3 letras iniciais\n",
    "for item in plotagem:\n",
    "    if '01' in item[1]:\n",
    "        item[1] = 'Jan'\n",
    "    if '02' in item[1]:\n",
    "        item[1] = 'Fev'\n",
    "    if '03' in item[1]:\n",
    "        item[1] = 'Mar'\n",
    "    if '04' in item[1]:\n",
    "        item[1] = 'Abr'\n",
    "    if '05' in item[1]:\n",
    "        item[1] = 'Mai'\n",
    "    if '06' in item[1]:\n",
    "        item[1] = 'Jun'\n",
    "    if '07' in item[1]:\n",
    "        item[1] = 'Jul'\n",
    "    if '08' in item[1]:\n",
    "        item[1] = 'Ago'\n",
    "    if '09' in item[1]:\n",
    "        item[1] = 'Set'\n",
    "    if '10' in item[1]:\n",
    "        item[1] = 'Out'\n",
    "    if '11' in item[1]:\n",
    "        item[1] = 'Nov'\n",
    "    if '12' in item[1]:\n",
    "        item[1] = 'Dez'"
   ]
  },
  {
   "cell_type": "code",
   "execution_count": null,
   "metadata": {},
   "outputs": [],
   "source": [
    "# Atribui a lista de listas a um data frame\n",
    "df_plotagem = pd.DataFrame(plotagem)\n",
    "\n",
    "# Altera o nome das colunas\n",
    "df_plotagem = df_plotagem.rename({0:'Ano',1:'Mês',2:'Empregados no Setor de Turismo'}, axis=1)"
   ]
  },
  {
   "cell_type": "code",
   "execution_count": null,
   "metadata": {
    "scrolled": true
   },
   "outputs": [],
   "source": [
    "# Cria o gráfico de linhas demonstrando a evolução dos empregos\n",
    "fig = px.line(df_plotagem, x=\"Mês\", y=\"Empregados no Setor de Turismo\", text=\"Empregados no Setor de Turismo\", color='Ano', title=f'Empregos no Turismo em {municipio}')\n",
    "fig.update_traces(textposition=\"top right\")\n",
    "fig.show()"
   ]
  }
 ],
 "metadata": {
  "kernelspec": {
   "display_name": "Python 3",
   "language": "python",
   "name": "python3"
  },
  "language_info": {
   "codemirror_mode": {
    "name": "ipython",
    "version": 3
   },
   "file_extension": ".py",
   "mimetype": "text/x-python",
   "name": "python",
   "nbconvert_exporter": "python",
   "pygments_lexer": "ipython3",
   "version": "3.8.5"
  }
 },
 "nbformat": 4,
 "nbformat_minor": 5
}
